{
  "nbformat": 4,
  "nbformat_minor": 0,
  "metadata": {
    "colab": {
      "provenance": []
    },
    "kernelspec": {
      "name": "python3",
      "display_name": "Python 3"
    },
    "language_info": {
      "name": "python"
    }
  },
  "cells": [
    {
      "cell_type": "code",
      "execution_count": 1,
      "metadata": {
        "colab": {
          "base_uri": "https://localhost:8080/"
        },
        "id": "ro2WCy2WR8Cn",
        "outputId": "43382060-fb67-48eb-8ca8-aaad48f7b8b9"
      },
      "outputs": [
        {
          "output_type": "stream",
          "name": "stdout",
          "text": [
            "Mounted at /content/drive\n",
            "Hugging Face Token successfully set.\n",
            "/content/drive/MyDrive/ES-CSA/data\n"
          ]
        }
      ],
      "source": [
        "import os\n",
        "import sys\n",
        "from google.colab import drive\n",
        "from google.colab import userdata\n",
        "\n",
        "drive.mount(\"/content/drive\")\n",
        "\n",
        "HF_TOKEN = userdata.get(\"HF_TOKEN\")\n",
        "os.environ[\"HF_TOKEN\"] = HF_TOKEN\n",
        "\n",
        "print(\"Hugging Face Token successfully set.\")\n",
        "\n",
        "%cd /content/drive/MyDrive/ES-CSA/data/\n",
        "sys.path.append('/content/drive/My Drive/ES-CSA/src')"
      ]
    },
    {
      "cell_type": "code",
      "source": [
        "!pip install numpy pandas"
      ],
      "metadata": {
        "colab": {
          "base_uri": "https://localhost:8080/"
        },
        "id": "JBsInp0aXpeG",
        "outputId": "0ad70bcd-c71b-4e66-837c-c4c3cadd8b28"
      },
      "execution_count": 2,
      "outputs": [
        {
          "output_type": "stream",
          "name": "stdout",
          "text": [
            "Requirement already satisfied: numpy in /usr/local/lib/python3.11/dist-packages (1.26.4)\n",
            "Requirement already satisfied: pandas in /usr/local/lib/python3.11/dist-packages (2.2.2)\n",
            "Requirement already satisfied: python-dateutil>=2.8.2 in /usr/local/lib/python3.11/dist-packages (from pandas) (2.8.2)\n",
            "Requirement already satisfied: pytz>=2020.1 in /usr/local/lib/python3.11/dist-packages (from pandas) (2025.1)\n",
            "Requirement already satisfied: tzdata>=2022.7 in /usr/local/lib/python3.11/dist-packages (from pandas) (2025.1)\n",
            "Requirement already satisfied: six>=1.5 in /usr/local/lib/python3.11/dist-packages (from python-dateutil>=2.8.2->pandas) (1.17.0)\n"
          ]
        }
      ]
    },
    {
      "cell_type": "code",
      "source": [
        "import ast\n",
        "import json\n",
        "import pandas as pd\n",
        "import numpy as np"
      ],
      "metadata": {
        "id": "Fm45triAXrun"
      },
      "execution_count": 3,
      "outputs": []
    },
    {
      "cell_type": "code",
      "source": [
        "# Load Consumer Data\n",
        "\n",
        "with open(\"processed/consumer_data.json\", \"r\") as file:\n",
        "    consumer_data = json.load(file)\n",
        "\n",
        "# Flatten Nested JSON Fields\n",
        "\n",
        "users = []\n",
        "cdrs = []\n",
        "purchases = []\n",
        "tickets = []\n",
        "\n",
        "for user in consumer_data:\n",
        "    base_info = {\n",
        "        \"MSISDN\": user[\"MSISDN\"],\n",
        "        \"Name\": user[\"Name\"],\n",
        "        \"City\": user[\"City\"],\n",
        "        \"User_Type\": user[\"User_Type\"]\n",
        "    }\n",
        "\n",
        "    for cdr in user.get(\"CDRS\", []):\n",
        "        cdrs.append({**base_info, **cdr})\n",
        "\n",
        "    for purchase in user.get(\"Purchases\", []):\n",
        "        purchases.append({**base_info, **purchase})\n",
        "\n",
        "    for ticket in user.get(\"Tickets\", []):\n",
        "        tickets.append({**base_info, **ticket})\n",
        "\n",
        "df_users = pd.DataFrame(consumer_data)\n",
        "df_cdrs = pd.DataFrame(cdrs)\n",
        "df_purchases = pd.DataFrame(purchases)\n",
        "df_tickets = pd.DataFrame(tickets)\n",
        "\n",
        "# Datetime Coversion\n",
        "\n",
        "datetime_columns = {\n",
        "    \"df_cdrs\": \"Datetime_Charged\",\n",
        "    \"df_purchases\": \"Datetime\",\n",
        "    \"df_tickets\": [\"Log_Time\", \"Resolution_Time\"]\n",
        "}\n",
        "\n",
        "for df_name, col in datetime_columns.items():\n",
        "    if isinstance(col, list):\n",
        "        for c in col:\n",
        "            globals()[df_name][c] = pd.to_datetime(globals()[df_name][c], errors=\"coerce\")\n",
        "    else:\n",
        "        globals()[df_name][col] = pd.to_datetime(globals()[df_name][col], errors=\"coerce\")\n",
        "\n",
        "print('Data prepared for EDA.')"
      ],
      "metadata": {
        "colab": {
          "base_uri": "https://localhost:8080/"
        },
        "id": "94dZuwbICc9n",
        "outputId": "91d3bf9a-5f0a-4065-a995-e1dc4b0844c0"
      },
      "execution_count": 13,
      "outputs": [
        {
          "output_type": "stream",
          "name": "stdout",
          "text": [
            "Data prepared for EDA.\n"
          ]
        }
      ]
    },
    {
      "cell_type": "code",
      "source": [
        "# Exploratory Data Analysis (EDA) - df_users\n",
        "\n",
        "### Regional Popularity Breakdown (Customers per City)\n",
        "\n",
        "regional_popularity = df_users[\"City\"].value_counts().reset_index()\n",
        "regional_popularity.columns = [\"City\", \"User_Count\"]\n",
        "print(\"Regional Popularity Breakdown:\\n\", regional_popularity)\n",
        "\n",
        "### User Type Distribution (Prepaid vs Postpaid)\n",
        "\n",
        "user_type_distribution = df_users[\"User_Type\"].value_counts().reset_index()\n",
        "user_type_distribution.columns = [\"User_Type\", \"Count\"]\n",
        "print(\"\\nUser Type Distribution:\\n\", user_type_distribution)\n",
        "\n",
        "### Regional User Type Distribution (User Type per City)\n",
        "\n",
        "regional_user_type_distribution = pd.crosstab(df_users[\"City\"], df_users[\"User_Type\"])\n",
        "print(\"\\nRegional User Type Distribution:\\n\", regional_user_type_distribution)\n"
      ],
      "metadata": {
        "colab": {
          "base_uri": "https://localhost:8080/"
        },
        "id": "2hnJlvyVmKNF",
        "outputId": "0d048c5a-da8f-4cb0-cce5-5b367fe567a4"
      },
      "execution_count": 17,
      "outputs": [
        {
          "output_type": "stream",
          "name": "stdout",
          "text": [
            "Regional Popularity Breakdown:\n",
            "          City  User_Count\n",
            "0      Quetta          75\n",
            "1      Lahore          73\n",
            "2    Peshawar          62\n",
            "3  Faisalabad          61\n",
            "4  Rawalpindi          60\n",
            "5   Islamabad          59\n",
            "6      Multan          58\n",
            "7     Karachi          52\n",
            "\n",
            "User Type Distribution:\n",
            "   User_Type  Count\n",
            "0  Postpaid    263\n",
            "1   Prepaid    237\n",
            "\n",
            "Regional User Type Distribution:\n",
            " User_Type   Postpaid  Prepaid\n",
            "City                         \n",
            "Faisalabad        33       28\n",
            "Islamabad         32       27\n",
            "Karachi           24       28\n",
            "Lahore            42       31\n",
            "Multan            27       31\n",
            "Peshawar          40       22\n",
            "Quetta            35       40\n",
            "Rawalpindi        30       30\n"
          ]
        }
      ]
    },
    {
      "cell_type": "code",
      "source": [
        "# Exploratory Data Analysis (EDA) - df_cdrs\n",
        "\n",
        "### Total Resources Consumed by Category (Data/SMS/Voice Call) per User\n",
        "\n",
        "total_resources_per_user = df_cdrs.pivot_table(\n",
        "    index=\"MSISDN\",\n",
        "    columns=\"Resource_Type\",\n",
        "    values=\"Resource_Value\",\n",
        "    aggfunc=\"sum\",\n",
        "    fill_value=0\n",
        ").reset_index()\n",
        "\n",
        "print(\"\\nTotal Resources Consumed per Category by User:\\n\", total_resources_per_user)\n",
        "\n",
        "### Total Amount Spent per Resource Category by User\n",
        "\n",
        "total_amount_spent_per_category = df_cdrs.pivot_table(\n",
        "    index=\"MSISDN\",\n",
        "    columns=\"Resource_Type\",\n",
        "    values=\"Amount_Charged\",\n",
        "    aggfunc=\"sum\",\n",
        "    fill_value=0\n",
        ").reset_index()\n",
        "\n",
        "print(\"\\nTotal Amount Spent per Resource Category by User:\\n\", total_amount_spent_per_category)\n",
        "\n",
        "### Total Amount Spent on Resources by User\n",
        "\n",
        "total_amount_spent = df_cdrs.groupby(\"MSISDN\")[\"Amount_Charged\"].sum().reset_index()\n",
        "total_amount_spent.columns = [\"MSISDN\", \"Total_Amount_Charged\"]\n",
        "\n",
        "print(\"\\nTotal Amount Spent on Resources by User:\\n\", total_amount_spent)\n",
        "\n",
        "### Frequency of Resource Consumption (User Activity)\n",
        "\n",
        "user_activity = df_cdrs.groupby(\"MSISDN\").size().reset_index(name=\"Transaction_Count\")\n",
        "\n",
        "print(\"\\nFrequency of Resource Consumption (User Activity):\\n\", user_activity)"
      ],
      "metadata": {
        "colab": {
          "base_uri": "https://localhost:8080/"
        },
        "id": "JKXDgKuRzCeX",
        "outputId": "18e6ca90-448c-41bd-f606-32972b12c0e4"
      },
      "execution_count": 20,
      "outputs": [
        {
          "output_type": "stream",
          "name": "stdout",
          "text": [
            "\n",
            "Total Resources Consumed per Category by User:\n",
            " Resource_Type         MSISDN  Data  SMS  Voice\n",
            "0              9230101039883   167   79    262\n",
            "1              9230102123429   188  157      0\n",
            "2              9230104488435   311  112    270\n",
            "3              9230108284824     0   79    211\n",
            "4              9230108807547   153  154    164\n",
            "..                       ...   ...  ...    ...\n",
            "495            9230996123791    65    0    464\n",
            "496            9230996583212    35   65    476\n",
            "497            9230996629579   182   60    333\n",
            "498            9230998618451   370   68    298\n",
            "499            9230999762562   278   93    216\n",
            "\n",
            "[500 rows x 4 columns]\n",
            "\n",
            "Total Amount Spent per Resource Category by User:\n",
            " Resource_Type         MSISDN  Data  SMS  Voice\n",
            "0              9230101039883    24   24     33\n",
            "1              9230102123429    19   19      0\n",
            "2              9230104488435    20   11      8\n",
            "3              9230108284824     0   65      0\n",
            "4              9230108807547     6   47     16\n",
            "..                       ...   ...  ...    ...\n",
            "495            9230996123791     0    0     30\n",
            "496            9230996583212     8   10      3\n",
            "497            9230996629579    22    0      5\n",
            "498            9230998618451    46   41     13\n",
            "499            9230999762562    29    7     28\n",
            "\n",
            "[500 rows x 4 columns]\n",
            "\n",
            "Total Amount Spent on Resources by User:\n",
            "             MSISDN  Total_Amount_Charged\n",
            "0    9230101039883                    81\n",
            "1    9230102123429                    38\n",
            "2    9230104488435                    39\n",
            "3    9230108284824                    65\n",
            "4    9230108807547                    69\n",
            "..             ...                   ...\n",
            "495  9230996123791                    30\n",
            "496  9230996583212                    21\n",
            "497  9230996629579                    27\n",
            "498  9230998618451                   100\n",
            "499  9230999762562                    64\n",
            "\n",
            "[500 rows x 2 columns]\n",
            "\n",
            "Frequency of Resource Consumption (User Activity):\n",
            "             MSISDN  Transaction_Count\n",
            "0    9230101039883                 10\n",
            "1    9230102123429                 10\n",
            "2    9230104488435                 11\n",
            "3    9230108284824                  9\n",
            "4    9230108807547                 13\n",
            "..             ...                ...\n",
            "495  9230996123791                  4\n",
            "496  9230996583212                  7\n",
            "497  9230996629579                  8\n",
            "498  9230998618451                 15\n",
            "499  9230999762562                 10\n",
            "\n",
            "[500 rows x 2 columns]\n"
          ]
        }
      ]
    },
    {
      "cell_type": "code",
      "source": [
        "# Exploratory Data Analysis (EDA) - df_purchases\n",
        "\n",
        "### Total Amount Spent per User\n",
        "\n",
        "total_spent_per_user = df_purchases.groupby(\"MSISDN\")[\"Amount\"].sum().reset_index()\n",
        "total_spent_per_user.columns = [\"MSISDN\", \"Total_Amount_Purchases\"]\n",
        "\n",
        "print(\"Total Amount Spent per User:\\n\", total_spent_per_user)\n",
        "\n",
        "### Total Purchases per User\n",
        "\n",
        "total_purchases_per_user = df_purchases.groupby(\"MSISDN\").size().reset_index(name=\"Total_Purchase_Transactions\")\n",
        "\n",
        "print(\"\\nTotal Purchases by User:\\n\", total_purchases_per_user)"
      ],
      "metadata": {
        "colab": {
          "base_uri": "https://localhost:8080/"
        },
        "id": "ZGnyzv27HmAM",
        "outputId": "422a0e74-80a5-4c77-82e8-146d5a0df002"
      },
      "execution_count": 21,
      "outputs": [
        {
          "output_type": "stream",
          "name": "stdout",
          "text": [
            "Total Amount Spent per User:\n",
            "             MSISDN  Total_Amount_Purchases\n",
            "0    9230101039883                    9287\n",
            "1    9230102123429                    4195\n",
            "2    9230104488435                    9423\n",
            "3    9230108284824                    7354\n",
            "4    9230108807547                    3167\n",
            "..             ...                     ...\n",
            "495  9230996123791                    5721\n",
            "496  9230996583212                    3651\n",
            "497  9230996629579                    9068\n",
            "498  9230998618451                    5723\n",
            "499  9230999762562                    5609\n",
            "\n",
            "[500 rows x 2 columns]\n",
            "\n",
            "Total Purchases by User:\n",
            "             MSISDN  Total_Purchase_Transactions\n",
            "0    9230101039883                           16\n",
            "1    9230102123429                            6\n",
            "2    9230104488435                           17\n",
            "3    9230108284824                           14\n",
            "4    9230108807547                            9\n",
            "..             ...                          ...\n",
            "495  9230996123791                           10\n",
            "496  9230996583212                            9\n",
            "497  9230996629579                           17\n",
            "498  9230998618451                            8\n",
            "499  9230999762562                           13\n",
            "\n",
            "[500 rows x 2 columns]\n"
          ]
        }
      ]
    },
    {
      "cell_type": "code",
      "source": [
        "# Exploratory Data Analysis (EDA) - df_tickets\n",
        "\n",
        "### Total Tickets per User\n",
        "\n",
        "df_tickets[\"Total_Tickets\"] = df_tickets.groupby(\"MSISDN\")[\"Ticket_ID\"].transform(\"count\")\n",
        "tickets_per_user = df_tickets[['MSISDN', 'Total_Tickets']].drop_duplicates()\n",
        "\n",
        "print(\"\\nTotal Tickets per User:\\n\", tickets_per_user)\n",
        "\n",
        "### Most Common Ticket Categories\n",
        "\n",
        "ticket_category_counts = df_tickets[\"Category\"].value_counts().reset_index()\n",
        "ticket_category_counts.columns = [\"Category\", \"Ticket_Count\"]\n",
        "\n",
        "print(\"\\nMost Frequent Ticket Categories:\\n\", ticket_category_counts)\n",
        "\n",
        "### Average Resolution Time per Ticket Category\n",
        "\n",
        "df_tickets[\"Log_Time\"] = pd.to_datetime(df_tickets[\"Log_Time\"])\n",
        "df_tickets[\"Resolution_Time\"] = pd.to_datetime(df_tickets[\"Resolution_Time\"])\n",
        "\n",
        "df_tickets[\"Resolution_Duration_Hours\"] = (df_tickets[\"Resolution_Time\"] - df_tickets[\"Log_Time\"]).dt.total_seconds() / 3600\n",
        "\n",
        "avg_resolution_time = df_tickets.groupby(\"Category\")[\"Resolution_Duration_Hours\"].mean().reset_index()\n",
        "avg_resolution_time.rename(columns={\"Resolution_Duration_Hours\": \"Avg_Resolution_Hours\"}, inplace=True)\n",
        "\n",
        "print(\"\\nAverage Resolution Hours per Ticket Category:\\n\", avg_resolution_time)"
      ],
      "metadata": {
        "colab": {
          "base_uri": "https://localhost:8080/"
        },
        "id": "_BFsmEfjzKOx",
        "outputId": "5e67d8dc-f9f3-4a20-bfc7-fa3abceb03d6"
      },
      "execution_count": 23,
      "outputs": [
        {
          "output_type": "stream",
          "name": "stdout",
          "text": [
            "\n",
            "Total Tickets per User:\n",
            "              MSISDN  Total_Tickets\n",
            "0     9230610000463             10\n",
            "10    9230347659110             11\n",
            "21    9230141002657              6\n",
            "27    9230162731400              7\n",
            "34    9230108284824              7\n",
            "...             ...            ...\n",
            "4937  9230521821189             12\n",
            "4949  9230745590992             15\n",
            "4964  9230678073159             15\n",
            "4979  9230644375655              7\n",
            "4986  9230620961607             14\n",
            "\n",
            "[500 rows x 2 columns]\n",
            "\n",
            "Most Frequent Ticket Categories:\n",
            "             Category  Ticket_Count\n",
            "0      Network Issue          1018\n",
            "1    General Inquiry          1015\n",
            "2  Technical Support          1013\n",
            "3            Billing          1009\n",
            "4          Complaint           945\n",
            "\n",
            "Average Resolution Hours per Ticket Category:\n",
            "             Category  Avg_Resolution_Hours\n",
            "0            Billing             36.513380\n",
            "1          Complaint             37.357672\n",
            "2    General Inquiry             37.310345\n",
            "3      Network Issue             36.795678\n",
            "4  Technical Support             36.828233\n"
          ]
        }
      ]
    },
    {
      "cell_type": "code",
      "source": [
        "# Storing EDA Insights\n",
        "\n",
        "eda_insights = [\n",
        "    regional_popularity.set_index(\"City\"),\n",
        "    user_type_distribution.set_index(\"User_Type\"),\n",
        "    regional_user_type_distribution,\n",
        "    total_resources_per_user.set_index(\"MSISDN\"),\n",
        "    total_amount_spent_per_category.set_index(\"MSISDN\"),\n",
        "    total_amount_spent.set_index(\"MSISDN\"),\n",
        "    user_activity.set_index(\"MSISDN\"),\n",
        "    total_spent_per_user.set_index(\"MSISDN\"),\n",
        "    total_purchases_per_user.set_index(\"MSISDN\"),\n",
        "    tickets_per_user.set_index(\"MSISDN\"),\n",
        "    ticket_category_counts.set_index(\"Category\"),\n",
        "    avg_resolution_time.set_index(\"Category\")\n",
        "]\n",
        "\n",
        "consumer_insights = {}\n",
        "\n",
        "for df in [df for df in eda_insights if \"MSISDN\" in df.index.names]:\n",
        "    for msisdn, row in df.iterrows():\n",
        "        if msisdn not in consumer_insights:\n",
        "            consumer_insights[msisdn] = {}\n",
        "        consumer_insights[msisdn].update(row.to_dict())\n",
        "\n",
        "consumer_insights[\"regional_popularity\"] = regional_popularity.to_dict(orient=\"records\")\n",
        "consumer_insights[\"user_type_distribution\"] = user_type_distribution.to_dict(orient=\"records\")\n",
        "consumer_insights[\"regional_user_type_distribution\"] = regional_user_type_distribution.to_dict()\n",
        "consumer_insights[\"ticket_category_counts\"] = ticket_category_counts.to_dict(orient=\"records\")\n",
        "consumer_insights[\"avg_resolution_time_per_category\"] = avg_resolution_time.to_dict(orient=\"records\")\n",
        "\n",
        "insights_file_path = \"processed/consumer_insights.json\"\n",
        "with open(insights_file_path, \"w\") as json_file:\n",
        "    json.dump(consumer_insights, json_file, indent=4)\n",
        "\n",
        "print(f\"Consumer insights saved as JSON file.\")"
      ],
      "metadata": {
        "colab": {
          "base_uri": "https://localhost:8080/"
        },
        "id": "xFibmINvahfr",
        "outputId": "8d96c39c-6fcf-4c30-eeca-ae8cebbe568f"
      },
      "execution_count": 27,
      "outputs": [
        {
          "output_type": "stream",
          "name": "stdout",
          "text": [
            "Consumer insights saved as JSON file.\n"
          ]
        }
      ]
    }
  ]
}