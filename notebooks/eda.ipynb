{
  "nbformat": 4,
  "nbformat_minor": 0,
  "metadata": {
    "colab": {
      "provenance": []
    },
    "kernelspec": {
      "name": "python3",
      "display_name": "Python 3"
    },
    "language_info": {
      "name": "python"
    }
  },
  "cells": [
    {
      "cell_type": "code",
      "execution_count": 1,
      "metadata": {
        "colab": {
          "base_uri": "https://localhost:8080/"
        },
        "id": "ro2WCy2WR8Cn",
        "outputId": "82616377-0cab-4481-e64b-21e79b21e0a1"
      },
      "outputs": [
        {
          "output_type": "stream",
          "name": "stdout",
          "text": [
            "Drive already mounted at /content/drive; to attempt to forcibly remount, call drive.mount(\"/content/drive\", force_remount=True).\n",
            "Hugging Face Token successfully set.\n",
            "/content/drive/MyDrive/ES-CSA/data\n"
          ]
        }
      ],
      "source": [
        "import os\n",
        "import sys\n",
        "from google.colab import drive\n",
        "from google.colab import userdata\n",
        "\n",
        "drive.mount(\"/content/drive\")\n",
        "\n",
        "HF_TOKEN = userdata.get(\"HF_TOKEN\")\n",
        "os.environ[\"HF_TOKEN\"] = HF_TOKEN\n",
        "\n",
        "print(\"Hugging Face Token successfully set.\")\n",
        "\n",
        "%cd /content/drive/MyDrive/ES-CSA/data/\n",
        "sys.path.append('/content/drive/My Drive/ES-CSA/src')"
      ]
    },
    {
      "cell_type": "code",
      "source": [
        "!pip install numpy pandas"
      ],
      "metadata": {
        "colab": {
          "base_uri": "https://localhost:8080/"
        },
        "id": "JBsInp0aXpeG",
        "outputId": "74ac2c53-42e3-4ec5-acb1-95362713509f"
      },
      "execution_count": 2,
      "outputs": [
        {
          "output_type": "stream",
          "name": "stdout",
          "text": [
            "Requirement already satisfied: numpy in /usr/local/lib/python3.11/dist-packages (1.26.4)\n",
            "Requirement already satisfied: pandas in /usr/local/lib/python3.11/dist-packages (2.2.2)\n",
            "Requirement already satisfied: python-dateutil>=2.8.2 in /usr/local/lib/python3.11/dist-packages (from pandas) (2.8.2)\n",
            "Requirement already satisfied: pytz>=2020.1 in /usr/local/lib/python3.11/dist-packages (from pandas) (2025.1)\n",
            "Requirement already satisfied: tzdata>=2022.7 in /usr/local/lib/python3.11/dist-packages (from pandas) (2025.1)\n",
            "Requirement already satisfied: six>=1.5 in /usr/local/lib/python3.11/dist-packages (from python-dateutil>=2.8.2->pandas) (1.17.0)\n"
          ]
        }
      ]
    },
    {
      "cell_type": "code",
      "source": [
        "import ast\n",
        "import json\n",
        "import pandas as pd\n",
        "import numpy as np\n",
        "from datetime import datetime, timedelta"
      ],
      "metadata": {
        "id": "Fm45triAXrun"
      },
      "execution_count": 6,
      "outputs": []
    },
    {
      "cell_type": "code",
      "source": [
        "# Load Consumer Data\n",
        "\n",
        "with open(\"processed/consumer_data.json\", \"r\") as file:\n",
        "    consumer_data = json.load(file)\n",
        "\n",
        "# Flatten Nested JSON Fields\n",
        "\n",
        "users = []\n",
        "cdrs = []\n",
        "purchases = []\n",
        "tickets = []\n",
        "\n",
        "for user in consumer_data:\n",
        "    base_info = {\n",
        "        \"MSISDN\": user[\"MSISDN\"],\n",
        "        \"Name\": user[\"Name\"],\n",
        "        \"City\": user[\"City\"],\n",
        "        \"User_Type\": user[\"User_Type\"]\n",
        "    }\n",
        "\n",
        "    for cdr in user.get(\"CDRS\", []):\n",
        "        cdrs.append({**base_info, **cdr})\n",
        "\n",
        "    for purchase in user.get(\"Purchases\", []):\n",
        "        purchases.append({**base_info, **purchase})\n",
        "\n",
        "    for ticket in user.get(\"Tickets\", []):\n",
        "        tickets.append({**base_info, **ticket})\n",
        "\n",
        "df_users = pd.DataFrame(consumer_data)\n",
        "df_cdrs = pd.DataFrame(cdrs)\n",
        "df_purchases = pd.DataFrame(purchases)\n",
        "df_tickets = pd.DataFrame(tickets)\n",
        "\n",
        "# Datetime Coversion\n",
        "\n",
        "datetime_columns = {\n",
        "    \"df_cdrs\": \"Datetime_Charged\",\n",
        "    \"df_purchases\": \"Datetime\",\n",
        "    \"df_tickets\": [\"Log_Time\", \"Resolution_Time\"]\n",
        "}\n",
        "\n",
        "for df_name, col in datetime_columns.items():\n",
        "    if isinstance(col, list):\n",
        "        for c in col:\n",
        "            globals()[df_name][c] = pd.to_datetime(globals()[df_name][c], errors=\"coerce\")\n",
        "    else:\n",
        "        globals()[df_name][col] = pd.to_datetime(globals()[df_name][col], errors=\"coerce\")\n",
        "\n",
        "print('Data prepared for EDA.')"
      ],
      "metadata": {
        "colab": {
          "base_uri": "https://localhost:8080/"
        },
        "id": "94dZuwbICc9n",
        "outputId": "a195a8af-0992-43a8-eb65-bd3f574bf605"
      },
      "execution_count": 4,
      "outputs": [
        {
          "output_type": "stream",
          "name": "stdout",
          "text": [
            "Data prepared for EDA.\n"
          ]
        }
      ]
    },
    {
      "cell_type": "code",
      "source": [
        "# Exploratory Data Analysis (EDA) - df_users\n",
        "\n",
        "### Regional Popularity Breakdown (Customers per City)\n",
        "\n",
        "regional_popularity = df_users[\"City\"].value_counts().reset_index()\n",
        "regional_popularity.columns = [\"City\", \"User_Count\"]\n",
        "\n",
        "print(\"Regional Popularity Breakdown:\\n\", regional_popularity)\n",
        "\n",
        "### User Type Distribution (Prepaid vs Postpaid)\n",
        "\n",
        "user_type_distribution = df_users[\"User_Type\"].value_counts().reset_index()\n",
        "user_type_distribution.columns = [\"User_Type\", \"Count\"]\n",
        "\n",
        "print(\"\\nUser Type Distribution:\\n\", user_type_distribution)\n",
        "\n",
        "### Regional User Type Distribution (User Type per City)\n",
        "\n",
        "regional_user_type_distribution = pd.crosstab(df_users[\"City\"], df_users[\"User_Type\"])\n",
        "\n",
        "print(\"\\nRegional User Type Distribution:\\n\", regional_user_type_distribution)\n",
        "\n",
        "users_insights = {\n",
        "    \"Regional_Popularity\": regional_popularity.to_dict(orient=\"records\"),\n",
        "    \"User_Type_Distribution\": user_type_distribution.to_dict(orient=\"records\"),\n",
        "    \"Regional_User_Type_Distribution\": regional_user_type_distribution.to_dict(orient=\"records\"),\n",
        "}"
      ],
      "metadata": {
        "colab": {
          "base_uri": "https://localhost:8080/"
        },
        "id": "2hnJlvyVmKNF",
        "outputId": "0bf3e269-24e8-4a78-c67c-5e27f414d006"
      },
      "execution_count": 5,
      "outputs": [
        {
          "output_type": "stream",
          "name": "stdout",
          "text": [
            "Regional Popularity Breakdown:\n",
            "          City  User_Count\n",
            "0      Quetta          75\n",
            "1      Lahore          73\n",
            "2    Peshawar          62\n",
            "3  Faisalabad          61\n",
            "4  Rawalpindi          60\n",
            "5   Islamabad          59\n",
            "6      Multan          58\n",
            "7     Karachi          52\n",
            "\n",
            "User Type Distribution:\n",
            "   User_Type  Count\n",
            "0  Postpaid    263\n",
            "1   Prepaid    237\n",
            "\n",
            "Regional User Type Distribution:\n",
            " User_Type   Postpaid  Prepaid\n",
            "City                         \n",
            "Faisalabad        33       28\n",
            "Islamabad         32       27\n",
            "Karachi           24       28\n",
            "Lahore            42       31\n",
            "Multan            27       31\n",
            "Peshawar          40       22\n",
            "Quetta            35       40\n",
            "Rawalpindi        30       30\n"
          ]
        }
      ]
    },
    {
      "cell_type": "code",
      "source": [
        "# Exploratory Data Analysis (EDA) - df_cdrs\n",
        "\n",
        "### Total Resources Consumed by Category (Data/SMS/Voice Call) per User\n",
        "\n",
        "total_resources_consumed = df_cdrs.pivot_table(\n",
        "    index=\"MSISDN\",\n",
        "    columns=\"Resource_Type\",\n",
        "    values=\"Resource_Value\",\n",
        "    aggfunc=\"sum\",\n",
        "    fill_value=0\n",
        ").reset_index()\n",
        "\n",
        "total_resources_consumed.columns = [\"MSISDN\", \"Total_Data_Consumed\", \"Total_SMS_Consumed\", \"Total_Voice_Consumed\"]\n",
        "\n",
        "print(\"\\nTotal Resources Consumed per Category by User:\\n\", total_resources_consumed)\n",
        "\n",
        "### Total Amount Spent per Resource Category by User\n",
        "\n",
        "amount_spent_resources = df_cdrs.pivot_table(\n",
        "    index=\"MSISDN\",\n",
        "    columns=\"Resource_Type\",\n",
        "    values=\"Amount_Charged\",\n",
        "    aggfunc=\"sum\",\n",
        "    fill_value=0\n",
        ").reset_index()\n",
        "\n",
        "amount_spent_resources.columns = [\"MSISDN\", \"Total_Spent_on_Data\", \"Total_Spent_on_SMS\", \"Total_Spent_on_Voice\"]\n",
        "\n",
        "print(\"\\nTotal Amount Spent per Resource Category by User:\\n\", amount_spent_resources)\n",
        "\n",
        "### Total Amount Spent on Resources by User\n",
        "\n",
        "total_amount_spent = df_cdrs.groupby(\"MSISDN\")[\"Amount_Charged\"].sum().reset_index()\n",
        "total_amount_spent.columns = [\"MSISDN\", \"Total_Amount_Charged\"]\n",
        "\n",
        "print(\"\\nTotal Amount Spent on Resources by User:\\n\", total_amount_spent)\n",
        "\n",
        "### Frequency of Resource Consumption (User Activity)\n",
        "\n",
        "user_activity = df_cdrs.groupby(\"MSISDN\").size().reset_index(name=\"Transaction_Count\")\n",
        "\n",
        "print(\"\\nFrequency of Resource Consumption (User Activity):\\n\", user_activity)"
      ],
      "metadata": {
        "colab": {
          "base_uri": "https://localhost:8080/"
        },
        "id": "JKXDgKuRzCeX",
        "outputId": "341e90e5-128f-4b8a-99f6-9091d9e1be0e"
      },
      "execution_count": 9,
      "outputs": [
        {
          "output_type": "stream",
          "name": "stdout",
          "text": [
            "\n",
            "Total Resources Consumed per Category by User:\n",
            "             MSISDN  Total_Data_Consumed  Total_SMS_Consumed  \\\n",
            "0    9230101039883                  167                  79   \n",
            "1    9230102123429                  188                 157   \n",
            "2    9230104488435                  311                 112   \n",
            "3    9230108284824                    0                  79   \n",
            "4    9230108807547                  153                 154   \n",
            "..             ...                  ...                 ...   \n",
            "495  9230996123791                   65                   0   \n",
            "496  9230996583212                   35                  65   \n",
            "497  9230996629579                  182                  60   \n",
            "498  9230998618451                  370                  68   \n",
            "499  9230999762562                  278                  93   \n",
            "\n",
            "     Total_Voice_Consumed  \n",
            "0                     262  \n",
            "1                       0  \n",
            "2                     270  \n",
            "3                     211  \n",
            "4                     164  \n",
            "..                    ...  \n",
            "495                   464  \n",
            "496                   476  \n",
            "497                   333  \n",
            "498                   298  \n",
            "499                   216  \n",
            "\n",
            "[500 rows x 4 columns]\n",
            "\n",
            "Total Amount Spent per Resource Category by User:\n",
            "             MSISDN  Total_Spent_on_Data  Total_Spent_on_SMS  \\\n",
            "0    9230101039883                   24                  24   \n",
            "1    9230102123429                   19                  19   \n",
            "2    9230104488435                   20                  11   \n",
            "3    9230108284824                    0                  65   \n",
            "4    9230108807547                    6                  47   \n",
            "..             ...                  ...                 ...   \n",
            "495  9230996123791                    0                   0   \n",
            "496  9230996583212                    8                  10   \n",
            "497  9230996629579                   22                   0   \n",
            "498  9230998618451                   46                  41   \n",
            "499  9230999762562                   29                   7   \n",
            "\n",
            "     Total_Spent_on_Voice  \n",
            "0                      33  \n",
            "1                       0  \n",
            "2                       8  \n",
            "3                       0  \n",
            "4                      16  \n",
            "..                    ...  \n",
            "495                    30  \n",
            "496                     3  \n",
            "497                     5  \n",
            "498                    13  \n",
            "499                    28  \n",
            "\n",
            "[500 rows x 4 columns]\n",
            "\n",
            "Total Amount Spent on Resources by User:\n",
            "             MSISDN  Total_Amount_Charged\n",
            "0    9230101039883                    81\n",
            "1    9230102123429                    38\n",
            "2    9230104488435                    39\n",
            "3    9230108284824                    65\n",
            "4    9230108807547                    69\n",
            "..             ...                   ...\n",
            "495  9230996123791                    30\n",
            "496  9230996583212                    21\n",
            "497  9230996629579                    27\n",
            "498  9230998618451                   100\n",
            "499  9230999762562                    64\n",
            "\n",
            "[500 rows x 2 columns]\n",
            "\n",
            "Frequency of Resource Consumption (User Activity):\n",
            "             MSISDN  Transaction_Count\n",
            "0    9230101039883                 10\n",
            "1    9230102123429                 10\n",
            "2    9230104488435                 11\n",
            "3    9230108284824                  9\n",
            "4    9230108807547                 13\n",
            "..             ...                ...\n",
            "495  9230996123791                  4\n",
            "496  9230996583212                  7\n",
            "497  9230996629579                  8\n",
            "498  9230998618451                 15\n",
            "499  9230999762562                 10\n",
            "\n",
            "[500 rows x 2 columns]\n"
          ]
        }
      ]
    },
    {
      "cell_type": "code",
      "source": [
        "# Exploratory Data Analysis (EDA) - df_purchases\n",
        "\n",
        "### Total Amount Spent per User\n",
        "\n",
        "total_spent_per_user = df_purchases.groupby(\"MSISDN\")[\"Amount\"].sum().reset_index()\n",
        "total_spent_per_user.columns = [\"MSISDN\", \"Total_Amount_on_Purchases\"]\n",
        "\n",
        "print(\"Total Amount Spent per User:\\n\", total_spent_per_user)\n",
        "\n",
        "### Total Purchases per User\n",
        "\n",
        "total_purchases_per_user = df_purchases.groupby(\"MSISDN\").size().reset_index(name=\"Total_Transactions\")\n",
        "\n",
        "print(\"\\nTotal Purchases by User:\\n\", total_purchases_per_user)"
      ],
      "metadata": {
        "colab": {
          "base_uri": "https://localhost:8080/"
        },
        "id": "ZGnyzv27HmAM",
        "outputId": "763aa060-1d04-4aaa-e870-6929a208a7c4"
      },
      "execution_count": 10,
      "outputs": [
        {
          "output_type": "stream",
          "name": "stdout",
          "text": [
            "Total Amount Spent per User:\n",
            "             MSISDN  Total_Amount_on_Purchases\n",
            "0    9230101039883                       9287\n",
            "1    9230102123429                       4195\n",
            "2    9230104488435                       9423\n",
            "3    9230108284824                       7354\n",
            "4    9230108807547                       3167\n",
            "..             ...                        ...\n",
            "495  9230996123791                       5721\n",
            "496  9230996583212                       3651\n",
            "497  9230996629579                       9068\n",
            "498  9230998618451                       5723\n",
            "499  9230999762562                       5609\n",
            "\n",
            "[500 rows x 2 columns]\n",
            "\n",
            "Total Purchases by User:\n",
            "             MSISDN  Total_Transactions\n",
            "0    9230101039883                  16\n",
            "1    9230102123429                   6\n",
            "2    9230104488435                  17\n",
            "3    9230108284824                  14\n",
            "4    9230108807547                   9\n",
            "..             ...                 ...\n",
            "495  9230996123791                  10\n",
            "496  9230996583212                   9\n",
            "497  9230996629579                  17\n",
            "498  9230998618451                   8\n",
            "499  9230999762562                  13\n",
            "\n",
            "[500 rows x 2 columns]\n"
          ]
        }
      ]
    },
    {
      "cell_type": "code",
      "source": [
        "# Exploratory Data Analysis (EDA) - df_tickets\n",
        "\n",
        "### Total Tickets per User\n",
        "\n",
        "df_tickets[\"Total_Tickets\"] = df_tickets.groupby(\"MSISDN\")[\"Ticket_ID\"].transform(\"count\")\n",
        "tickets_per_user = df_tickets[['MSISDN', 'Total_Tickets']].drop_duplicates()\n",
        "\n",
        "print(\"\\nTotal Tickets per User:\\n\", tickets_per_user)\n",
        "\n",
        "### Most Common Ticket Categories\n",
        "\n",
        "ticket_category_counts = df_tickets[\"Category\"].value_counts().reset_index()\n",
        "ticket_category_counts.columns = [\"Category\", \"Ticket_Count\"]\n",
        "\n",
        "print(\"\\nMost Frequent Ticket Categories:\\n\", ticket_category_counts)\n",
        "\n",
        "### Average Resolution Time per Ticket Category\n",
        "\n",
        "df_tickets[\"Log_Time\"] = pd.to_datetime(df_tickets[\"Log_Time\"])\n",
        "df_tickets[\"Resolution_Time\"] = pd.to_datetime(df_tickets[\"Resolution_Time\"])\n",
        "\n",
        "df_tickets[\"Resolution_Duration_Hours\"] = (df_tickets[\"Resolution_Time\"] - df_tickets[\"Log_Time\"]).dt.total_seconds() / 3600\n",
        "\n",
        "avg_resolution_time = df_tickets.groupby(\"Category\")[\"Resolution_Duration_Hours\"].mean().reset_index()\n",
        "avg_resolution_time.rename(columns={\"Resolution_Duration_Hours\": \"Avg_Resolution_Hours\"}, inplace=True)\n",
        "\n",
        "print(\"\\nAverage Resolution Hours per Ticket Category:\\n\", avg_resolution_time)"
      ],
      "metadata": {
        "colab": {
          "base_uri": "https://localhost:8080/"
        },
        "id": "_BFsmEfjzKOx",
        "outputId": "bd308a09-3cf1-43fc-9527-ab90ee805bb8"
      },
      "execution_count": 11,
      "outputs": [
        {
          "output_type": "stream",
          "name": "stdout",
          "text": [
            "\n",
            "Total Tickets per User:\n",
            "              MSISDN  Total_Tickets\n",
            "0     9230610000463             10\n",
            "10    9230347659110             11\n",
            "21    9230141002657              6\n",
            "27    9230162731400              7\n",
            "34    9230108284824              7\n",
            "...             ...            ...\n",
            "4937  9230521821189             12\n",
            "4949  9230745590992             15\n",
            "4964  9230678073159             15\n",
            "4979  9230644375655              7\n",
            "4986  9230620961607             14\n",
            "\n",
            "[500 rows x 2 columns]\n",
            "\n",
            "Most Frequent Ticket Categories:\n",
            "             Category  Ticket_Count\n",
            "0      Network Issue          1018\n",
            "1    General Inquiry          1015\n",
            "2  Technical Support          1013\n",
            "3            Billing          1009\n",
            "4          Complaint           945\n",
            "\n",
            "Average Resolution Hours per Ticket Category:\n",
            "             Category  Avg_Resolution_Hours\n",
            "0            Billing             36.513380\n",
            "1          Complaint             37.357672\n",
            "2    General Inquiry             37.310345\n",
            "3      Network Issue             36.795678\n",
            "4  Technical Support             36.828233\n"
          ]
        }
      ]
    },
    {
      "cell_type": "code",
      "source": [
        "# Storing EDA Insights\n",
        "\n",
        "insights_dict = {}\n",
        "\n",
        "# User-Specific Insights\n",
        "\n",
        "for msisdn in total_resources_consumed[\"MSISDN\"]:\n",
        "    insights_dict[str(msisdn)] = {\n",
        "        \"Total_Data_Consumed\": int(total_resources_consumed.loc[total_resources_consumed[\"MSISDN\"] == msisdn, \"Total_Data_Consumed\"].values[0]),\n",
        "        \"Total_SMS_Consumed\": int(total_resources_consumed.loc[total_resources_consumed[\"MSISDN\"] == msisdn, \"Total_SMS_Consumed\"].values[0]),\n",
        "        \"Total_Voice_Consumed\": int(total_resources_consumed.loc[total_resources_consumed[\"MSISDN\"] == msisdn, \"Total_Voice_Consumed\"].values[0]),\n",
        "        \"Total_Amount_Spent_on_Data\": int(amount_spent_resources.loc[amount_spent_resources[\"MSISDN\"] == msisdn, \"Total_Spent_on_Data\"].values[0]),\n",
        "        \"Total_Amount_Spent_on_SMS\": int(amount_spent_resources.loc[amount_spent_resources[\"MSISDN\"] == msisdn, \"Total_Spent_on_SMS\"].values[0]),\n",
        "        \"Total_Amount_Spent_on_Voice\": int(amount_spent_resources.loc[amount_spent_resources[\"MSISDN\"] == msisdn, \"Total_Spent_on_Voice\"].values[0]),\n",
        "        \"Total_Amount_Charged\": int(total_amount_spent.loc[total_amount_spent[\"MSISDN\"] == msisdn, \"Total_Amount_Charged\"].values[0]),\n",
        "        \"Transaction_Count\": int(user_activity.loc[user_activity[\"MSISDN\"] == msisdn, \"Transaction_Count\"].values[0]),\n",
        "        \"Total_Amount_Purchases\": int(total_spent_per_user.loc[total_spent_per_user[\"MSISDN\"] == msisdn, \"Total_Amount_on_Purchases\"].values[0]) if msisdn in total_spent_per_user[\"MSISDN\"].values else 0,\n",
        "        \"Total_Purchase_Transactions\": int(total_purchases_per_user.loc[total_purchases_per_user[\"MSISDN\"] == msisdn, \"Total_Transactions\"].values[0]) if msisdn in total_purchases_per_user[\"MSISDN\"].values else 0,\n",
        "        \"Total_Tickets\": int(tickets_per_user.loc[tickets_per_user[\"MSISDN\"] == msisdn, \"Total_Tickets\"].values[0]) if msisdn in tickets_per_user[\"MSISDN\"].values else 0\n",
        "    }\n",
        "\n",
        "# General Consumer Insights\n",
        "\n",
        "insights_dict[\"General_Insights\"] = {\n",
        "    \"Regional_Popularity\": users_insights[\"Regional_Popularity\"],\n",
        "    \"User_Type_Distribution\": users_insights[\"User_Type_Distribution\"],\n",
        "    \"Regional_User_Type_Distribution\": users_insights[\"Regional_User_Type_Distribution\"],\n",
        "    \"Most_Common_Ticket_Categories\": ticket_category_counts.to_dict(orient=\"records\"),\n",
        "    \"Average_Resolution_Time_Per_Ticket_Category\": avg_resolution_time.to_dict(orient=\"records\"),\n",
        "}\n",
        "\n",
        "# Save to JSON\n",
        "consumer_insights_path = \"processed/consumer_insights.json\"\n",
        "with open(consumer_insights_path, \"w\") as f:\n",
        "    json.dump(insights_dict, f, indent=4)\n",
        "\n",
        "print(f\"Consumer insights saved as JSON file.\")"
      ],
      "metadata": {
        "colab": {
          "base_uri": "https://localhost:8080/"
        },
        "id": "xFibmINvahfr",
        "outputId": "1ed574e5-f0ab-4419-862c-71538be06b9e"
      },
      "execution_count": 12,
      "outputs": [
        {
          "output_type": "stream",
          "name": "stdout",
          "text": [
            "Consumer insights saved as JSON file.\n"
          ]
        }
      ]
    }
  ]
}