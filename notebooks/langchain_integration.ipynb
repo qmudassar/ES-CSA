{
  "nbformat": 4,
  "nbformat_minor": 0,
  "metadata": {
    "colab": {
      "provenance": []
    },
    "kernelspec": {
      "name": "python3",
      "display_name": "Python 3"
    },
    "language_info": {
      "name": "python"
    }
  },
  "cells": [
    {
      "cell_type": "code",
      "source": [
        "from google.colab import drive\n",
        "drive.mount('/content/drive')"
      ],
      "metadata": {
        "colab": {
          "base_uri": "https://localhost:8080/"
        },
        "id": "54fPP68QUf02",
        "outputId": "59dd3c20-91bc-4e0b-d9e0-683c72f1c7c2"
      },
      "execution_count": 1,
      "outputs": [
        {
          "output_type": "stream",
          "name": "stdout",
          "text": [
            "Drive already mounted at /content/drive; to attempt to forcibly remount, call drive.mount(\"/content/drive\", force_remount=True).\n"
          ]
        }
      ]
    },
    {
      "cell_type": "code",
      "source": [
        "from google.colab import userdata\n",
        "HF_TOKEN = userdata.get('HF_Phi2')\n",
        "\n",
        "print(f\"HuggingFace Token Loaded.\")"
      ],
      "metadata": {
        "colab": {
          "base_uri": "https://localhost:8080/"
        },
        "id": "rmoYBgwdc5Vh",
        "outputId": "2aac00d5-350d-4fab-e0ff-d53c128682d0"
      },
      "execution_count": 2,
      "outputs": [
        {
          "output_type": "stream",
          "name": "stdout",
          "text": [
            "HuggingFace Token Loaded.\n"
          ]
        }
      ]
    },
    {
      "cell_type": "markdown",
      "source": [
        "# Integrating FAISS Index with LangChain for RAG"
      ],
      "metadata": {
        "id": "a3YDwnAIUing"
      }
    },
    {
      "cell_type": "code",
      "source": [
        "!pip install langchain langchain-community langchain-huggingface faiss-cpu sentence-transformers"
      ],
      "metadata": {
        "id": "nwfB6BXPUhn-"
      },
      "execution_count": null,
      "outputs": []
    },
    {
      "cell_type": "code",
      "source": [
        "from langchain.vectorstores import FAISS\n",
        "from langchain_huggingface import HuggingFaceEmbeddings\n",
        "from langchain.docstore.document import Document\n",
        "from langchain.docstore.in_memory import InMemoryDocstore\n",
        "import faiss\n",
        "import numpy as np\n",
        "import pickle"
      ],
      "metadata": {
        "id": "4MpfUZGDUtrD"
      },
      "execution_count": 4,
      "outputs": []
    },
    {
      "cell_type": "code",
      "source": [
        "# Load FAISS Index\n",
        "faiss_index_path = '/content/drive/MyDrive/GenAI-CSA/data/embedded/faiss_index_mpnet.index'\n",
        "faiss_index = faiss.read_index(faiss_index_path)\n",
        "\n",
        "# Load Embeddings\n",
        "path_to_embeddings = '/content/drive/MyDrive/GenAI-CSA/data/embedded/embeddings_mpnet.pkl'\n",
        "with open(path_to_embeddings, 'rb') as file:\n",
        "    embeddings = pickle.load(file)\n",
        "\n",
        "print(f\"Loaded FAISS index with {faiss_index.ntotal} embeddings.\")"
      ],
      "metadata": {
        "colab": {
          "base_uri": "https://localhost:8080/"
        },
        "id": "zgAwuRnLVDst",
        "outputId": "ae82e831-150b-405d-c0a8-c929a41d6aab"
      },
      "execution_count": 5,
      "outputs": [
        {
          "output_type": "stream",
          "name": "stdout",
          "text": [
            "Loaded FAISS index with 501606 embeddings.\n"
          ]
        }
      ]
    },
    {
      "cell_type": "markdown",
      "source": [
        "### Rebuilding LangChain FAISS Object:"
      ],
      "metadata": {
        "id": "ghA9DJryWagX"
      }
    },
    {
      "cell_type": "code",
      "source": [
        "# Extract Documents\n",
        "documents = embeddings['documents']\n",
        "\n",
        "# Convert into LangChain Document Objects\n",
        "langchain_docs = [Document(page_content=doc['page_content'], metadata=doc['metadata']) for doc in documents]\n",
        "\n",
        "# Create Docstore & Mapping for LangChain\n",
        "docstore = InMemoryDocstore({str(i): doc for i, doc in enumerate(langchain_docs)})\n",
        "index_to_docstore_id = {i: str(i) for i in range(len(langchain_docs))}\n",
        "\n",
        "# Embedding Model\n",
        "embedding_model = HuggingFaceEmbeddings(model_name='sentence-transformers/paraphrase-mpnet-base-v2')\n",
        "\n",
        "# Reconstruct LangChain FAISS Object\n",
        "faiss_store = FAISS(\n",
        "    embedding_function=embedding_model,\n",
        "    index=faiss_index,\n",
        "    docstore=docstore,\n",
        "    index_to_docstore_id=index_to_docstore_id\n",
        ")\n",
        "\n",
        "print(f\"LangChain FAISS store ready with {faiss_store.index.ntotal} embeddings.\")"
      ],
      "metadata": {
        "colab": {
          "base_uri": "https://localhost:8080/"
        },
        "id": "_IL0v5x1VGez",
        "outputId": "692bd2a6-65d5-4b0c-e527-8efbf6de3559"
      },
      "execution_count": 6,
      "outputs": [
        {
          "output_type": "stream",
          "name": "stderr",
          "text": [
            "/usr/local/lib/python3.11/dist-packages/huggingface_hub/utils/_auth.py:94: UserWarning: \n",
            "The secret `HF_TOKEN` does not exist in your Colab secrets.\n",
            "To authenticate with the Hugging Face Hub, create a token in your settings tab (https://huggingface.co/settings/tokens), set it as secret in your Google Colab and restart your session.\n",
            "You will be able to reuse this secret in all of your notebooks.\n",
            "Please note that authentication is recommended but still optional to access public models or datasets.\n",
            "  warnings.warn(\n"
          ]
        },
        {
          "output_type": "stream",
          "name": "stdout",
          "text": [
            "LangChain FAISS store ready with 501606 embeddings.\n"
          ]
        }
      ]
    },
    {
      "cell_type": "markdown",
      "source": [
        "### Test Semantic Search w/ LangChain:"
      ],
      "metadata": {
        "id": "hqzwRq7-W2c2"
      }
    },
    {
      "cell_type": "code",
      "source": [
        "# Test Query\n",
        "query = \"Most popular offer.\"\n",
        "retrieved_docs = faiss_store.similarity_search(query, k=5)\n",
        "\n",
        "\n",
        "for i, doc in enumerate(retrieved_docs, 1):\n",
        "    print(f\"Document {i}:\")\n",
        "    print(f\"Content: {doc.page_content}\")\n",
        "    print(f\"Metadata: {doc.metadata}\")"
      ],
      "metadata": {
        "colab": {
          "base_uri": "https://localhost:8080/"
        },
        "id": "kN6W5ja1W7L1",
        "outputId": "42e38e94-4ca7-427d-becc-15581ebbb23a"
      },
      "execution_count": 7,
      "outputs": [
        {
          "output_type": "stream",
          "name": "stdout",
          "text": [
            "Document 1:\n",
            "Content: user in multan with a postpaid plan. currently subscribed to offer: offer 49 (offer id: o046). usage details: data browsing allowance of 4990mb, social data allowance of 1813mb, 681 sms, 181 on-net minutes, and 185 off-net minutes. recent transaction on 2024-06-08 11:20:14 with amount charged: 19 units. resource type: data (value: 15). customer support ticket (id: t40586) logged on 2024-01-19 17:15:03 under category: billing. issue description: issue reported under billing category. resolution provided on 2024-01-22 01:15:03: resolved with detailed explanation for billing category.\n",
            "Metadata: {'city': 'Multan', 'user_type': 'Postpaid', 'offer': 'Offer 49', 'data_allowance': 4990, 'sms_allowance': 681, 'voice_on_net': 181, 'voice_off_net': 185, 'data_social_allowance': 1813, 'amount': 244, 'resource_type': 'Data', 'category': 'Billing'}\n",
            "Document 2:\n",
            "Content: user in multan with a postpaid plan. currently subscribed to offer: offer 49 (offer id: o046). usage details: data browsing allowance of 4990mb, social data allowance of 1813mb, 681 sms, 181 on-net minutes, and 185 off-net minutes. recent transaction on 2024-06-08 11:20:14 with amount charged: 19 units. resource type: data (value: 15). customer support ticket (id: t18850) logged on 2023-02-01 12:06:29 under category: billing. issue description: issue reported under billing category. resolution provided on 2023-02-03 17:06:29: resolved with detailed explanation for billing category.\n",
            "Metadata: {'city': 'Multan', 'user_type': 'Postpaid', 'offer': 'Offer 49', 'data_allowance': 4990, 'sms_allowance': 681, 'voice_on_net': 181, 'voice_off_net': 185, 'data_social_allowance': 1813, 'amount': 244, 'resource_type': 'Data', 'category': 'Billing'}\n",
            "Document 3:\n",
            "Content: user in multan with a postpaid plan. currently subscribed to offer: offer 10 (offer id: o046). usage details: data browsing allowance of 4752mb, social data allowance of 1035mb, 823 sms, 50 on-net minutes, and 24 off-net minutes. recent transaction on 2023-10-03 19:41:20 with amount charged: 5 units. resource type: data (value: 74). customer support ticket (id: t56244) logged on 2023-10-05 07:18:02 under category: billing. issue description: issue reported under billing category. resolution provided on 2023-10-07 07:18:02: resolved with detailed explanation for billing category.\n",
            "Metadata: {'city': 'Multan', 'user_type': 'Postpaid', 'offer': 'Offer 10', 'data_allowance': 4752, 'sms_allowance': 823, 'voice_on_net': 50, 'voice_off_net': 24, 'data_social_allowance': 1035, 'amount': 287, 'resource_type': 'Data', 'category': 'Billing'}\n",
            "Document 4:\n",
            "Content: user in multan with a postpaid plan. currently subscribed to offer: offer 49 (offer id: o046). usage details: data browsing allowance of 4990mb, social data allowance of 1813mb, 681 sms, 181 on-net minutes, and 185 off-net minutes. recent transaction on 2024-09-25 18:08:36 with amount charged: 17 units. resource type: data (value: 21). customer support ticket (id: t66658) logged on 2024-08-09 05:52:44 under category: billing. issue description: issue reported under billing category. resolution provided on 2024-08-10 04:52:44: resolved with detailed explanation for billing category.\n",
            "Metadata: {'city': 'Multan', 'user_type': 'Postpaid', 'offer': 'Offer 49', 'data_allowance': 4990, 'sms_allowance': 681, 'voice_on_net': 181, 'voice_off_net': 185, 'data_social_allowance': 1813, 'amount': 244, 'resource_type': 'Data', 'category': 'Billing'}\n",
            "Document 5:\n",
            "Content: user in multan with a postpaid plan. currently subscribed to offer: offer 9 (offer id: o004). usage details: data browsing allowance of 6749mb, social data allowance of 547mb, 622 sms, 422 on-net minutes, and 107 off-net minutes. recent transaction on 2024-07-29 03:39:55 with amount charged: 19 units. resource type: data (value: 12). customer support ticket (id: t92371) logged on 2024-03-15 09:52:50 under category: billing. issue description: issue reported under billing category. resolution provided on 2024-03-16 16:52:50: resolved with detailed explanation for billing category.\n",
            "Metadata: {'city': 'Multan', 'user_type': 'Postpaid', 'offer': 'Offer 9', 'data_allowance': 6749, 'sms_allowance': 622, 'voice_on_net': 422, 'voice_off_net': 107, 'data_social_allowance': 547, 'amount': 876, 'resource_type': 'Data', 'category': 'Billing'}\n"
          ]
        }
      ]
    },
    {
      "cell_type": "code",
      "source": [
        "# Save LangChain Compatible FAISS Object\n",
        "faiss_store.save_local('/content/drive/MyDrive/GenAI-CSA/data/embedded/langchain_faiss_index')"
      ],
      "metadata": {
        "id": "M7CKNNtbXVr1"
      },
      "execution_count": 8,
      "outputs": []
    }
  ]
}