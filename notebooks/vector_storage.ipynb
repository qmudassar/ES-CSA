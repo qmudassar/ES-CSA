{
  "cells": [
    {
      "cell_type": "markdown",
      "metadata": {
        "id": "EYOXVwxpAbmJ"
      },
      "source": [
        "### **Note:** This code has been optimized for Google Colab platform for the sake GPU utility."
      ]
    },
    {
      "cell_type": "code",
      "execution_count": 1,
      "metadata": {
        "colab": {
          "base_uri": "https://localhost:8080/"
        },
        "id": "sKJzlKaI-cGu",
        "outputId": "846ef3b1-99a4-4bbc-db0d-4d4952b98db2"
      },
      "outputs": [
        {
          "name": "stdout",
          "output_type": "stream",
          "text": [
            "Mounted at /content/drive\n"
          ]
        }
      ],
      "source": [
        "from google.colab import drive\n",
        "drive.mount('/content/drive')"
      ]
    },
    {
      "cell_type": "markdown",
      "metadata": {
        "id": "--HyW1FAAPVk"
      },
      "source": [
        "# Storing Embeddings in Vector DB for RAG"
      ]
    },
    {
      "cell_type": "code",
      "execution_count": null,
      "metadata": {
        "id": "3d4n2pVEDWro"
      },
      "outputs": [],
      "source": [
        "!pip install faiss-cpu"
      ]
    },
    {
      "cell_type": "code",
      "execution_count": 17,
      "metadata": {
        "colab": {
          "base_uri": "https://localhost:8080/"
        },
        "id": "3OaXizQEDp8q",
        "outputId": "0ef30c78-e0d0-496f-d345-f1296a802afe"
      },
      "outputs": [
        {
          "name": "stdout",
          "output_type": "stream",
          "text": [
            "Embeddings numpy array shape: (501606, 768)\n",
            "Data type of embeddings: float32\n"
          ]
        }
      ],
      "source": [
        "import numpy as np\n",
        "import pickle\n",
        "\n",
        "# Load Embeddings .pkl File\n",
        "path_to_embeddings = '/content/drive/MyDrive/GenAI-CSA/data/embedded/embeddings_mpnet.pkl'\n",
        "with open(path_to_embeddings, 'rb') as file:\n",
        "    embeddings = pickle.load(file)\n",
        "\n",
        "# Extract Vectors\n",
        "embedding_vectors = embeddings['embeddings']\n",
        "\n",
        "# Convert to Array\n",
        "embeddings_array = np.array(embedding_vectors, dtype=np.float32)\n",
        "\n",
        "print(f\"Embeddings numpy array shape: {embeddings_array.shape}\")\n",
        "print(f\"Data type of embeddings: {embeddings_array.dtype}\")"
      ]
    },
    {
      "cell_type": "markdown",
      "metadata": {
        "id": "1j6rNBSJJ2fh"
      },
      "source": [
        "### FAISS Integration"
      ]
    },
    {
      "cell_type": "code",
      "execution_count": 18,
      "metadata": {
        "colab": {
          "base_uri": "https://localhost:8080/"
        },
        "id": "5Vh1JDotHG-H",
        "outputId": "4abdbd2a-4ed7-4ab4-8c1d-136192e3ac3a"
      },
      "outputs": [
        {
          "name": "stdout",
          "output_type": "stream",
          "text": [
            "Number of embeddings in the FAISS index: 501606\n"
          ]
        }
      ],
      "source": [
        "import faiss\n",
        "\n",
        "# Dimension of Embedding\n",
        "dimension = embeddings_array.shape[1]\n",
        "\n",
        "# FAISS Index using L2 Distance\n",
        "index = faiss.IndexFlatL2(dimension)\n",
        "\n",
        "# Add Embeddings to Index\n",
        "index.add(embeddings_array)\n",
        "\n",
        "print(f\"Number of embeddings in the FAISS index: {index.ntotal}\")"
      ]
    },
    {
      "cell_type": "code",
      "execution_count": 20,
      "metadata": {
        "colab": {
          "base_uri": "https://localhost:8080/"
        },
        "id": "G5EjUMvDJLdf",
        "outputId": "071c5ca0-e09a-4cb1-d84c-af6367778ef0"
      },
      "outputs": [
        {
          "name": "stdout",
          "output_type": "stream",
          "text": [
            "FAISS index saved at: /content/drive/MyDrive/GenAI-CSA/data/embedded/faiss_index_mpnet.index\n"
          ]
        }
      ],
      "source": [
        "# Save the FAISS Index\n",
        "faiss_path = '/content/drive/MyDrive/GenAI-CSA/data/embedded/faiss_index_mpnet.index'\n",
        "faiss.write_index(index, faiss_path)\n",
        "\n",
        "print(f\"FAISS index saved at: {faiss_path}\")"
      ]
    }
  ],
  "metadata": {
    "colab": {
      "provenance": []
    },
    "kernelspec": {
      "display_name": "Python 3",
      "name": "python3"
    },
    "language_info": {
      "name": "python"
    }
  },
  "nbformat": 4,
  "nbformat_minor": 0
}
