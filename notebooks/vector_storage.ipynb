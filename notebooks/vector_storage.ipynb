{
  "nbformat": 4,
  "nbformat_minor": 0,
  "metadata": {
    "colab": {
      "provenance": []
    },
    "kernelspec": {
      "name": "python3",
      "display_name": "Python 3"
    },
    "language_info": {
      "name": "python"
    }
  },
  "cells": [
    {
      "cell_type": "markdown",
      "source": [
        "### **Note:** This code has been optimized for Google Colab platform for the sake GPU utility."
      ],
      "metadata": {
        "id": "EYOXVwxpAbmJ"
      }
    },
    {
      "cell_type": "code",
      "execution_count": 1,
      "metadata": {
        "id": "sKJzlKaI-cGu",
        "colab": {
          "base_uri": "https://localhost:8080/"
        },
        "outputId": "6860e290-87a8-4fe2-bd27-1d1616bd50c3"
      },
      "outputs": [
        {
          "output_type": "stream",
          "name": "stdout",
          "text": [
            "Mounted at /content/drive\n"
          ]
        }
      ],
      "source": [
        "from google.colab import drive\n",
        "drive.mount('/content/drive')"
      ]
    },
    {
      "cell_type": "markdown",
      "source": [
        "# Storing Embeddings in Vector DB for RAG"
      ],
      "metadata": {
        "id": "--HyW1FAAPVk"
      }
    },
    {
      "cell_type": "code",
      "source": [
        "!pip install faiss-cpu langchain"
      ],
      "metadata": {
        "id": "3d4n2pVEDWro"
      },
      "execution_count": null,
      "outputs": []
    },
    {
      "cell_type": "code",
      "source": [
        "import numpy as np\n",
        "import pickle\n",
        "\n",
        "# Load Embeddings .pkl File\n",
        "path_to_embeddings = '/content/drive/MyDrive/GenAI-CSA/data/embedded/embeddings_mpnet.pkl'\n",
        "with open(path_to_embeddings, 'rb') as file:\n",
        "    embeddings = pickle.load(file)\n",
        "\n",
        "# Extract Vectors\n",
        "embedding_vectors = embeddings['embeddings']\n",
        "\n",
        "# Convert to Array\n",
        "embeddings_array = np.array(embedding_vectors, dtype=np.float32)\n",
        "\n",
        "print(f\"Embeddings numpy array shape: {embeddings_array.shape}\")\n",
        "print(f\"Data type of embeddings: {embeddings_array.dtype}\")"
      ],
      "metadata": {
        "colab": {
          "base_uri": "https://localhost:8080/"
        },
        "id": "3OaXizQEDp8q",
        "outputId": "cc3400da-8943-4dba-f0b3-2d78fad6c0bb"
      },
      "execution_count": 3,
      "outputs": [
        {
          "output_type": "stream",
          "name": "stdout",
          "text": [
            "Embeddings numpy array shape: (501606, 768)\n",
            "Data type of embeddings: float32\n"
          ]
        }
      ]
    },
    {
      "cell_type": "markdown",
      "source": [
        "### FAISS Integration"
      ],
      "metadata": {
        "id": "1j6rNBSJJ2fh"
      }
    },
    {
      "cell_type": "code",
      "source": [
        "import faiss\n",
        "\n",
        "# FAISS Index using Cosine Similarity\n",
        "faiss.normalize_L2(embeddings_array)\n",
        "dimension = embeddings_array.shape[1]\n",
        "index = faiss.IndexFlatIP(dimension)\n",
        "index.add(embeddings_array)\n",
        "\n",
        "print(f\"Number of embeddings in the FAISS index: {index.ntotal}\")"
      ],
      "metadata": {
        "colab": {
          "base_uri": "https://localhost:8080/"
        },
        "id": "5Vh1JDotHG-H",
        "outputId": "dbe75388-d514-46e9-9f72-2720a65bb6f8"
      },
      "execution_count": 4,
      "outputs": [
        {
          "output_type": "stream",
          "name": "stdout",
          "text": [
            "Number of embeddings in the FAISS index: 501606\n"
          ]
        }
      ]
    },
    {
      "cell_type": "code",
      "source": [
        "# Save the FAISS Index\n",
        "faiss_path = '/content/drive/MyDrive/GenAI-CSA/data/embedded/faiss_index_mpnet.index'\n",
        "faiss.write_index(index, faiss_path)\n",
        "\n",
        "print(f\"FAISS index saved at: {faiss_path}\")"
      ],
      "metadata": {
        "colab": {
          "base_uri": "https://localhost:8080/"
        },
        "id": "G5EjUMvDJLdf",
        "outputId": "e3a6960f-f34c-4096-e48e-328b31045582"
      },
      "execution_count": 7,
      "outputs": [
        {
          "output_type": "stream",
          "name": "stdout",
          "text": [
            "FAISS index saved at: /content/drive/MyDrive/GenAI-CSA/data/embedded/faiss_index_mpnet.index\n"
          ]
        }
      ]
    }
  ]
}