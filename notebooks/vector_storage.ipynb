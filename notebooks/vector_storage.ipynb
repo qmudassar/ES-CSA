{
  "nbformat": 4,
  "nbformat_minor": 0,
  "metadata": {
    "colab": {
      "provenance": []
    },
    "kernelspec": {
      "name": "python3",
      "display_name": "Python 3"
    },
    "language_info": {
      "name": "python"
    }
  },
  "cells": [
    {
      "cell_type": "markdown",
      "source": [
        "### **Note:** This code has been optimized for Google Colab platform for the sake GPU utility."
      ],
      "metadata": {
        "id": "EYOXVwxpAbmJ"
      }
    },
    {
      "cell_type": "code",
      "execution_count": 1,
      "metadata": {
        "id": "sKJzlKaI-cGu",
        "colab": {
          "base_uri": "https://localhost:8080/"
        },
        "outputId": "846ef3b1-99a4-4bbc-db0d-4d4952b98db2"
      },
      "outputs": [
        {
          "output_type": "stream",
          "name": "stdout",
          "text": [
            "Mounted at /content/drive\n"
          ]
        }
      ],
      "source": [
        "from google.colab import drive\n",
        "drive.mount('/content/drive')"
      ]
    },
    {
      "cell_type": "markdown",
      "source": [
        "# Storing Embeddings in Vector DB for RAG"
      ],
      "metadata": {
        "id": "--HyW1FAAPVk"
      }
    },
    {
      "cell_type": "code",
      "source": [
        "!pip install faiss-cpu langchain"
      ],
      "metadata": {
        "id": "3d4n2pVEDWro"
      },
      "execution_count": null,
      "outputs": []
    },
    {
      "cell_type": "code",
      "source": [
        "import numpy as np\n",
        "import pickle\n",
        "\n",
        "# Load Embeddings .pkl File\n",
        "path_to_embeddings = '/content/drive/MyDrive/GenAI-CSA/data/embedded/embeddings_mpnet.pkl'\n",
        "with open(path_to_embeddings, 'rb') as file:\n",
        "    embeddings = pickle.load(file)\n",
        "\n",
        "# Extract Vectors\n",
        "embedding_vectors = embeddings['embeddings']\n",
        "\n",
        "# Convert to Array\n",
        "embeddings_array = np.array(embedding_vectors, dtype=np.float32)\n",
        "\n",
        "print(f\"Embeddings numpy array shape: {embeddings_array.shape}\")\n",
        "print(f\"Data type of embeddings: {embeddings_array.dtype}\")"
      ],
      "metadata": {
        "colab": {
          "base_uri": "https://localhost:8080/"
        },
        "id": "3OaXizQEDp8q",
        "outputId": "0ef30c78-e0d0-496f-d345-f1296a802afe"
      },
      "execution_count": 17,
      "outputs": [
        {
          "output_type": "stream",
          "name": "stdout",
          "text": [
            "Embeddings numpy array shape: (501606, 768)\n",
            "Data type of embeddings: float32\n"
          ]
        }
      ]
    },
    {
      "cell_type": "markdown",
      "source": [
        "### FAISS Integration"
      ],
      "metadata": {
        "id": "1j6rNBSJJ2fh"
      }
    },
    {
      "cell_type": "code",
      "source": [
        "import faiss\n",
        "\n",
        "# Dimension of Embedding\n",
        "dimension = embeddings_array.shape[1]\n",
        "\n",
        "# FAISS Index using L2 Distance\n",
        "index = faiss.IndexFlatL2(dimension)\n",
        "\n",
        "# Add Embeddings to Index\n",
        "index.add(embeddings_array)\n",
        "\n",
        "print(f\"Number of embeddings in the FAISS index: {index.ntotal}\")"
      ],
      "metadata": {
        "colab": {
          "base_uri": "https://localhost:8080/"
        },
        "id": "5Vh1JDotHG-H",
        "outputId": "4abdbd2a-4ed7-4ab4-8c1d-136192e3ac3a"
      },
      "execution_count": 18,
      "outputs": [
        {
          "output_type": "stream",
          "name": "stdout",
          "text": [
            "Number of embeddings in the FAISS index: 501606\n"
          ]
        }
      ]
    },
    {
      "cell_type": "code",
      "source": [
        "# Save the FAISS Index\n",
        "faiss_path = '/content/drive/MyDrive/GenAI-CSA/data/embedded/faiss_index_mpnet.index'\n",
        "faiss.write_index(index, faiss_path)\n",
        "\n",
        "print(f\"FAISS index saved at: {faiss_path}\")"
      ],
      "metadata": {
        "colab": {
          "base_uri": "https://localhost:8080/"
        },
        "id": "G5EjUMvDJLdf",
        "outputId": "071c5ca0-e09a-4cb1-d84c-af6367778ef0"
      },
      "execution_count": 20,
      "outputs": [
        {
          "output_type": "stream",
          "name": "stdout",
          "text": [
            "FAISS index saved at: /content/drive/MyDrive/GenAI-CSA/data/embedded/faiss_index_mpnet.index\n"
          ]
        }
      ]
    }
  ]
}