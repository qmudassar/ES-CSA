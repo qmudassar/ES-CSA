{
 "cells": [
  {
   "cell_type": "markdown",
   "metadata": {},
   "source": [
    "# Generating Embeddings for RAG"
   ]
  },
  {
   "cell_type": "code",
   "execution_count": null,
   "metadata": {},
   "outputs": [],
   "source": [
    "import pandas as pd\n",
    "import json\n",
    "\n",
    "# Load Processed Data\n",
    "combined_data = pd.read_csv('/content/drive/MyDrive/GenAI-CSA/data/combined/combined_data.csv')\n",
    "with open('/content/drive/MyDrive/GenAI-CSA/data/metadata/metadata.json', 'r') as f:\n",
    "    metadata = json.load(f)\n",
    "\n",
    "print(f\"Loaded combined_data.csv with {combined_data.shape[0]} rows.\")\n",
    "print(f\"Loaded metadata.json with {len(metadata)} entries.\")"
   ]
  },
  {
   "cell_type": "code",
   "execution_count": null,
   "metadata": {},
   "outputs": [],
   "source": [
    "# Integrating Metadata with Text Data\n",
    "documents = [\n",
    "    {\"page_content\": content, \"metadata\": metadata}\n",
    "    for content, metadata in zip(combined_data['Data_Summary'], metadata)\n",
    "]\n",
    "\n",
    "print(f\"Reconstructed {len(documents)} documents for embedding generation.\")"
   ]
  },
  {
   "cell_type": "code",
   "execution_count": null,
   "metadata": {},
   "outputs": [],
   "source": [
    "from sentence_transformers import SentenceTransformer\n",
    "import pickle\n",
    "import time\n",
    "\n",
    "# Loading Embedding Generation Model\n",
    "start_time = time.time()\n",
    "model = SentenceTransformer('paraphrase-mpnet-base-v2')\n",
    "\n",
    "print(f\"Model loaded in {time.time() - start_time:.2f} seconds.\")"
   ]
  },
  {
   "cell_type": "code",
   "execution_count": null,
   "metadata": {},
   "outputs": [],
   "source": [
    "# Preparing Textual Data for Embeddings\n",
    "texts = [doc['page_content'] for doc in documents]\n",
    "\n",
    "# Generate Embeddings\n",
    "start_time = time.time()\n",
    "embeddings = model.encode(\n",
    "    texts,\n",
    "    show_progress_bar=True,\n",
    "    batch_size=64,\n",
    "    convert_to_numpy=True,\n",
    "    normalize_embeddings=True\n",
    ")\n",
    "\n",
    "print(f\"Embeddings generated in {time.time() - start_time:.2f} seconds.\")"
   ]
  }
 ],
 "metadata": {
  "kernelspec": {
   "display_name": "base",
   "language": "python",
   "name": "python3"
  },
  "language_info": {
   "codemirror_mode": {
    "name": "ipython",
    "version": 3
   },
   "file_extension": ".py",
   "mimetype": "text/x-python",
   "name": "python",
   "nbconvert_exporter": "python",
   "pygments_lexer": "ipython3",
   "version": "3.12.4"
  }
 },
 "nbformat": 4,
 "nbformat_minor": 2
}
